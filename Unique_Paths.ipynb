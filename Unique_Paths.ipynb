{
  "nbformat": 4,
  "nbformat_minor": 0,
  "metadata": {
    "colab": {
      "name": "Unique Paths.ipynb",
      "provenance": [],
      "collapsed_sections": []
    },
    "kernelspec": {
      "name": "python3",
      "display_name": "Python 3"
    }
  },
  "cells": [
    {
      "cell_type": "markdown",
      "metadata": {
        "id": "d-bt-MmsgImc"
      },
      "source": [
        "Problem Link:https://leetcode.com/problems/unique-paths/"
      ]
    },
    {
      "cell_type": "code",
      "metadata": {
        "id": "vOwNoEpIcb9v"
      },
      "source": [
        "def uniquePaths(m,n):\n",
        "  dp = [[0 for y in range(n)] for x in range(m)]\n",
        "  for i in range(m):\n",
        "    dp[i][0]=1\n",
        "  for i in range(n):\n",
        "    dp[0][i]= 1\n",
        "\n",
        "  for i in range(1 , m):\n",
        "    for j in range(1 , n):\n",
        "      dp[i][j] = dp[i][j-1] + dp[i-1][j]\n",
        "\n",
        "  return dp[m-1][n-1]"
      ],
      "execution_count": 1,
      "outputs": []
    },
    {
      "cell_type": "code",
      "metadata": {
        "colab": {
          "base_uri": "https://localhost:8080/"
        },
        "id": "s7IdOFdWcCLk",
        "outputId": "f33da11a-3daf-4e1e-e763-584bc8a05dc5"
      },
      "source": [
        "m=3 \n",
        "n=7\n",
        "\n",
        "uniquePaths(m , n)"
      ],
      "execution_count": 2,
      "outputs": [
        {
          "output_type": "execute_result",
          "data": {
            "text/plain": [
              "28"
            ]
          },
          "metadata": {
            "tags": []
          },
          "execution_count": 2
        }
      ]
    }
  ]
}