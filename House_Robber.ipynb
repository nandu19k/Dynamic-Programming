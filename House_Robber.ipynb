{
  "nbformat": 4,
  "nbformat_minor": 0,
  "metadata": {
    "colab": {
      "name": "House Robber.ipynb",
      "provenance": []
    },
    "kernelspec": {
      "name": "python3",
      "display_name": "Python 3"
    }
  },
  "cells": [
    {
      "cell_type": "markdown",
      "metadata": {
        "id": "uYuvzTJPP2He"
      },
      "source": [
        "Problem Link: https://leetcode.com/problems/house-robber/"
      ]
    },
    {
      "cell_type": "code",
      "metadata": {
        "id": "m3CC18v-P13X"
      },
      "source": [
        "def robb(nums):\n",
        "  n = len(nums)\n",
        "  \n",
        "  if n==0:\n",
        "    return 0\n",
        "  dp = [0]*n\n",
        "  dp[0] = nums[0]\n",
        "\n",
        "  for i in range(1 , n):\n",
        "    if i ==1:\n",
        "      dp[i] = max(nums[0] , nums[1])\n",
        "    else:\n",
        "      dp[i] = max(dp[i-1] , nums[i]+dp[i-2])\n",
        "  return dp[-1]"
      ],
      "execution_count": 1,
      "outputs": []
    },
    {
      "cell_type": "code",
      "metadata": {
        "colab": {
          "base_uri": "https://localhost:8080/"
        },
        "id": "r9ulJwA8S7u3",
        "outputId": "b8f31421-f4ae-4ad4-d8e7-b5e10d042f16"
      },
      "source": [
        "nums = [1,2,3,1]\n",
        "robb(nums)"
      ],
      "execution_count": 2,
      "outputs": [
        {
          "output_type": "execute_result",
          "data": {
            "text/plain": [
              "4"
            ]
          },
          "metadata": {
            "tags": []
          },
          "execution_count": 2
        }
      ]
    },
    {
      "cell_type": "code",
      "metadata": {
        "colab": {
          "base_uri": "https://localhost:8080/"
        },
        "id": "e-i_T2ysViEe",
        "outputId": "7b16f934-08ab-40fe-d8ee-ca74de5abf08"
      },
      "source": [
        "nums = [2,7,9,3,1]\n",
        "robb(nums)"
      ],
      "execution_count": 3,
      "outputs": [
        {
          "output_type": "execute_result",
          "data": {
            "text/plain": [
              "12"
            ]
          },
          "metadata": {
            "tags": []
          },
          "execution_count": 3
        }
      ]
    },
    {
      "cell_type": "code",
      "metadata": {
        "colab": {
          "base_uri": "https://localhost:8080/"
        },
        "id": "ixcEwelzVsuC",
        "outputId": "2994ebd7-6ce7-46c4-e53e-2f2b092680fa"
      },
      "source": [
        "nums= [7 , 2]\n",
        "robb(nums)"
      ],
      "execution_count": 4,
      "outputs": [
        {
          "output_type": "execute_result",
          "data": {
            "text/plain": [
              "7"
            ]
          },
          "metadata": {
            "tags": []
          },
          "execution_count": 4
        }
      ]
    }
  ]
}