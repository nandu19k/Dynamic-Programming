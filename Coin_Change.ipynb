{
  "nbformat": 4,
  "nbformat_minor": 0,
  "metadata": {
    "colab": {
      "name": "Coin Change.ipynb",
      "provenance": [],
      "collapsed_sections": []
    },
    "kernelspec": {
      "name": "python3",
      "display_name": "Python 3"
    }
  },
  "cells": [
    {
      "cell_type": "markdown",
      "metadata": {
        "id": "d-bt-MmsgImc"
      },
      "source": [
        "Problem Link: https://leetcode.com/problems/coin-change/"
      ]
    },
    {
      "cell_type": "code",
      "metadata": {
        "id": "4PXs31O8YQeY"
      },
      "source": [
        "def CoinChange(amount , coins):\n",
        "  if amount <=0:\n",
        "    return 0\n",
        "  if min(coins)>amount:\n",
        "    return -1\n",
        "\n",
        "  INT_MAX = 1<<32\n",
        "  dp = [INT_MAX]*(amount+1)\n",
        "\n",
        "  dp[0] = 0\n",
        "  for i in range(1 , amount+1):\n",
        "    for coin in coins:\n",
        "      if coin <=i:\n",
        "        dp[i] = min(dp[i] , dp[i-coin]+1)\n",
        "  return dp[amount] if dp[amount] != INT_MAX else  -1"
      ],
      "execution_count": 1,
      "outputs": []
    },
    {
      "cell_type": "code",
      "metadata": {
        "id": "1naH0KLsVlAk",
        "colab": {
          "base_uri": "https://localhost:8080/"
        },
        "outputId": "56485c53-07a6-4571-eca0-fbe03703055d"
      },
      "source": [
        "coins = [1,2,5] \n",
        "amount = 22\n",
        "\n",
        "CoinChange(amount , coins)"
      ],
      "execution_count": 2,
      "outputs": [
        {
          "output_type": "execute_result",
          "data": {
            "text/plain": [
              "5"
            ]
          },
          "metadata": {
            "tags": []
          },
          "execution_count": 2
        }
      ]
    }
  ]
}