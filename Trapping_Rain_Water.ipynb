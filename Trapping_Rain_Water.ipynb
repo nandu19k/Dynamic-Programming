{
  "nbformat": 4,
  "nbformat_minor": 0,
  "metadata": {
    "colab": {
      "name": "Trapping Rain Water.ipynb",
      "provenance": [],
      "collapsed_sections": []
    },
    "kernelspec": {
      "name": "python3",
      "display_name": "Python 3"
    }
  },
  "cells": [
    {
      "cell_type": "markdown",
      "metadata": {
        "id": "xSh8tqiSjjP1"
      },
      "source": [
        "Problem Link: https://leetcode.com/problems/trapping-rain-water/"
      ]
    },
    {
      "cell_type": "code",
      "metadata": {
        "id": "d9ZlMhg7x7Mh"
      },
      "source": [
        "class Solution:\n",
        "  def trap(self,lst):\n",
        "    n = len(lst)\n",
        "\n",
        "    if n == 0:\n",
        "      return 0\n",
        "\n",
        "    left = [0]*n\n",
        "    right = [0]*n\n",
        "\n",
        "    left[0] = lst[0]\n",
        "    right[n-1] = lst[n-1]\n",
        "    ans = 0\n",
        "    for i in range(1 , n):\n",
        "      left[i] = max(left[i-1] , lst[i])\n",
        "    \n",
        "    for i in range(n-2 , -1 , -1):\n",
        "      right[i] = max(right[i+1] , lst[i])\n",
        "\n",
        "    for i in range(n):\n",
        "      ans+= min(left[i] , right[i]) - lst[i]\n",
        "\n",
        "    return ans"
      ],
      "execution_count": 1,
      "outputs": []
    },
    {
      "cell_type": "code",
      "metadata": {
        "colab": {
          "base_uri": "https://localhost:8080/"
        },
        "id": "yFsnDPKl7XCe",
        "outputId": "c669ab0e-bb14-4f2b-c1dc-6b1beba772fd"
      },
      "source": [
        "height = [4,2,0,3,2,5]\n",
        "sol = Solution()\n",
        "\n",
        "sol.trap(height)"
      ],
      "execution_count": 2,
      "outputs": [
        {
          "output_type": "execute_result",
          "data": {
            "text/plain": [
              "9"
            ]
          },
          "metadata": {
            "tags": []
          },
          "execution_count": 2
        }
      ]
    }
  ]
}