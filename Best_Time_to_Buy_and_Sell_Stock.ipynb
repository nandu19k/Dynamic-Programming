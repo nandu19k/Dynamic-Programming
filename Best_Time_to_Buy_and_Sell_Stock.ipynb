{
  "nbformat": 4,
  "nbformat_minor": 0,
  "metadata": {
    "colab": {
      "name": "Best Time to Buy and Sell Stock.ipynb",
      "provenance": []
    },
    "kernelspec": {
      "name": "python3",
      "display_name": "Python 3"
    }
  },
  "cells": [
    {
      "cell_type": "markdown",
      "metadata": {
        "id": "uYuvzTJPP2He"
      },
      "source": [
        "Problem Link: https://leetcode.com/problems/best-time-to-buy-and-sell-stock/"
      ]
    },
    {
      "cell_type": "code",
      "metadata": {
        "id": "WxDIZ24lW9zh"
      },
      "source": [
        "def buyandsell(nums):\n",
        "  n = len(nums)\n",
        "  buy = nums[0]\n",
        "  profit = 0\n",
        "\n",
        "  for i in range(1 , n):\n",
        "    if buy > nums[i]:\n",
        "      buy = nums[i]\n",
        "    else:\n",
        "      profit = max(profit , nums[i]- buy)\n",
        "  return profit"
      ],
      "execution_count": 1,
      "outputs": []
    },
    {
      "cell_type": "code",
      "metadata": {
        "colab": {
          "base_uri": "https://localhost:8080/"
        },
        "id": "Uzg2xKfnWvCH",
        "outputId": "11444d56-8d83-4fcb-ec09-4fe272d2f2fb"
      },
      "source": [
        "input = [7,1,5,3,6,4]\n",
        "buyandsell(input)"
      ],
      "execution_count": 2,
      "outputs": [
        {
          "output_type": "execute_result",
          "data": {
            "text/plain": [
              "5"
            ]
          },
          "metadata": {
            "tags": []
          },
          "execution_count": 2
        }
      ]
    },
    {
      "cell_type": "code",
      "metadata": {
        "colab": {
          "base_uri": "https://localhost:8080/"
        },
        "id": "3-MS8RjqYC0D",
        "outputId": "0447ee9f-9941-4e77-8f6d-579987b3f4ff"
      },
      "source": [
        "nums = [7,6,4,3,1]\n",
        "buyandsell(nums)"
      ],
      "execution_count": 3,
      "outputs": [
        {
          "output_type": "execute_result",
          "data": {
            "text/plain": [
              "0"
            ]
          },
          "metadata": {
            "tags": []
          },
          "execution_count": 3
        }
      ]
    }
  ]
}