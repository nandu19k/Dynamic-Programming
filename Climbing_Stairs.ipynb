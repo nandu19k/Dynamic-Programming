{
  "nbformat": 4,
  "nbformat_minor": 0,
  "metadata": {
    "colab": {
      "name": "Climbing Stairs.ipynb",
      "provenance": []
    },
    "kernelspec": {
      "name": "python3",
      "display_name": "Python 3"
    }
  },
  "cells": [
    {
      "cell_type": "markdown",
      "metadata": {
        "id": "d-bt-MmsgImc"
      },
      "source": [
        "Problem Link: https://leetcode.com/problems/climbing-stairs/"
      ]
    },
    {
      "cell_type": "code",
      "metadata": {
        "id": "fA5xLvJGgL5F"
      },
      "source": [
        "def climbingStairs(n):\n",
        "  nums = [0]*n\n",
        "  if n==1 or n==0:\n",
        "    return n\n",
        "  nums[0] = 1\n",
        "  nums[1] = 2\n",
        "\n",
        "  for i in range(2 , n):\n",
        "    nums[i] = nums[i-1] + nums[i-2]\n",
        "  return nums[-1]"
      ],
      "execution_count": 1,
      "outputs": []
    },
    {
      "cell_type": "code",
      "metadata": {
        "colab": {
          "base_uri": "https://localhost:8080/"
        },
        "id": "gvQzGxU7hr6b",
        "outputId": "badc7856-3c9a-4599-e798-7f38a7224aa9"
      },
      "source": [
        "n =10 \n",
        "climbingStairs(n)"
      ],
      "execution_count": 2,
      "outputs": [
        {
          "output_type": "execute_result",
          "data": {
            "text/plain": [
              "89"
            ]
          },
          "metadata": {
            "tags": []
          },
          "execution_count": 2
        }
      ]
    }
  ]
}