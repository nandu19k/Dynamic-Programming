{
  "nbformat": 4,
  "nbformat_minor": 0,
  "metadata": {
    "colab": {
      "name": "Word Search.ipynb",
      "provenance": []
    },
    "kernelspec": {
      "name": "python3",
      "display_name": "Python 3"
    }
  },
  "cells": [
    {
      "cell_type": "markdown",
      "metadata": {
        "id": "d-bt-MmsgImc"
      },
      "source": [
        "Problem Link: https://leetcode.com/problems/word-search/"
      ]
    },
    {
      "cell_type": "code",
      "metadata": {
        "id": "ZrgwZQS5lL4T"
      },
      "source": [
        "class Solution:\n",
        "\n",
        "  dx = [0,0,-1,1]\n",
        "  dy = [1,-1,0,0]\n",
        "\n",
        "  def solution(self , board,word,x,y,curr):\n",
        "    if (x <0 or x>= len(board) or y < 0 or y >= len(board[x] or board[x][y] == ' ')):\n",
        "      return False\n",
        "    curr += board[x][y]\n",
        "\n",
        "    if len(curr) > len(word):\n",
        "      return False\n",
        "    if curr[len(curr)-1] != word[len(curr)-1]:\n",
        "      return False\n",
        "\n",
        "    if (curr == word):\n",
        "      return True\n",
        "\n",
        "    temp = board[x][y]\n",
        "    board[x][y] = ' '\n",
        "\n",
        "    for i in range(4):\n",
        "      if (self.solution(board , word , x+self.dx[i] , y+self.dy[i] , curr)):\n",
        "        return True\n",
        "    \n",
        "    board[x][y] = temp\n",
        "    return False\n",
        "\n",
        "  def exist(self , board , word):\n",
        "    if(len(word) == 0):\n",
        "            return True\n",
        "    n = len(board)\n",
        "    for i in range(n):\n",
        "      m = len(board[i])\n",
        "      for j in range(m):\n",
        "        if(word[0] == board[i][j] and self.solution(board, word, i, j, \"\")):\n",
        "          return True\n",
        "    return False"
      ],
      "execution_count": 1,
      "outputs": []
    },
    {
      "cell_type": "code",
      "metadata": {
        "id": "BSQ9bFsYk9sn"
      },
      "source": [
        "board = [[\"A\",\"B\",\"C\",\"E\"],[\"S\",\"F\",\"C\",\"S\"],[\"A\",\"D\",\"E\",\"E\"]]\n",
        "word = \"SEE\""
      ],
      "execution_count": 2,
      "outputs": []
    },
    {
      "cell_type": "code",
      "metadata": {
        "colab": {
          "base_uri": "https://localhost:8080/"
        },
        "id": "wjAHLljEx2i2",
        "outputId": "6437aee6-0d66-42ae-e2de-c67fe434b714"
      },
      "source": [
        "ob1  = Solution()\n",
        "ob1.exist(board , word)"
      ],
      "execution_count": 3,
      "outputs": [
        {
          "output_type": "execute_result",
          "data": {
            "text/plain": [
              "True"
            ]
          },
          "metadata": {
            "tags": []
          },
          "execution_count": 3
        }
      ]
    }
  ]
}