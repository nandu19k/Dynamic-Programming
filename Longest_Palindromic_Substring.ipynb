{
  "nbformat": 4,
  "nbformat_minor": 0,
  "metadata": {
    "colab": {
      "name": "Longest Palindromic Substring.ipynb",
      "provenance": [],
      "collapsed_sections": []
    },
    "kernelspec": {
      "name": "python3",
      "display_name": "Python 3"
    }
  },
  "cells": [
    {
      "cell_type": "markdown",
      "metadata": {
        "id": "xSh8tqiSjjP1"
      },
      "source": [
        "Problem Link: https://leetcode.com/problems/longest-palindromic-substring/\n"
      ]
    },
    {
      "cell_type": "code",
      "metadata": {
        "id": "DOAa3arMjreI"
      },
      "source": [
        "class Solution:\n",
        "  def Palindrom(self , s):\n",
        "    if len(s) < 2:\n",
        "      return s\n",
        "\n",
        "    res = \"\"\n",
        "    for i in range(len(s)):\n",
        "      odd = self.helper(s , i,i)\n",
        "      even = self.helper(s , i , i+1)\n",
        "      res = max(odd , even , res, key = len)\n",
        "    return res\n",
        "  def helper(self , s , left , right):\n",
        "    while (left >=0 and right< len(s) and s[left]==s[right]):\n",
        "      left-=1\n",
        "      right+=1\n",
        "    return s[left+1:right]"
      ],
      "execution_count": 1,
      "outputs": []
    },
    {
      "cell_type": "code",
      "metadata": {
        "colab": {
          "base_uri": "https://localhost:8080/",
          "height": 35
        },
        "id": "40gaBy3Kjkst",
        "outputId": "12d3708c-a182-422f-ee14-e9654a904dc1"
      },
      "source": [
        "s = \"babad\"\n",
        "sol = Solution()\n",
        "sol.Palindrom(s)"
      ],
      "execution_count": 2,
      "outputs": [
        {
          "output_type": "execute_result",
          "data": {
            "application/vnd.google.colaboratory.intrinsic+json": {
              "type": "string"
            },
            "text/plain": [
              "'aba'"
            ]
          },
          "metadata": {
            "tags": []
          },
          "execution_count": 2
        }
      ]
    }
  ]
}